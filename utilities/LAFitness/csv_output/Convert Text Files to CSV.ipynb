{
 "cells": [
  {
   "cell_type": "code",
   "execution_count": 4,
   "id": "opponent-tractor",
   "metadata": {},
   "outputs": [
    {
     "name": "stdout",
     "output_type": "stream",
     "text": [
      "2022_07_12_MD.txt\n",
      "{'MD': '2022_07_12_MD.txt', 'LA': '2022_07_12_LA.txt', 'AR': '2022_07_12_AR.txt', 'NJ': '2022_07_12_NJ.txt', 'NY': '2022_07_12_NY.txt', 'MA': '2022_07_12_MA.txt', 'OH': '2022_07_12_OH.txt', 'IN': '2022_07_12_IN.txt', 'IL': '2022_07_12_IL.txt', 'SC': '2022_07_12_SC.txt', 'GA': '2022_07_12_GA.txt', 'KY': '2022_07_12_KY.txt', 'RI': '2022_07_12_RI.txt', 'PA': '2022_07_12_PA.txt', 'FL': '2022_07_12_FL.txt', 'DE': '2022_07_12_DE.txt', 'TX': '2022_07_12_TX.txt', 'OR': '2022_07_12_OR.txt', 'TN': '2022_07_12_TN.txt', 'MN': '2022_07_12_MN.txt', 'AZ': '2022_07_12_AZ.txt', 'NC': '2022_07_12_NC.txt', 'WA': '2022_07_12_WA.txt', 'VA': '2022_07_12_VA.txt', 'CA': '2022_07_12_CA.txt', 'CT': '2022_07_12_CT.txt', 'MI': '2022_07_12_MI.txt'}\n"
     ]
    }
   ],
   "source": [
    "import pandas as pd\n",
    "import os\n",
    "\n",
    "path_to_txt_files = \"../html_files/\"\n",
    "\n",
    "state_txts = os.listdir(path_to_txt_files)\n",
    "\n",
    "maryland_test = state_txts[0]\n",
    "\n",
    "print(maryland_test)\n",
    "\n",
    "def get_state(fn):\n",
    "    return fn.split(\"_\")[3].split(\".\")[0]\n",
    "\n",
    "state_map = {}\n",
    "\n",
    "for st in state_txts:\n",
    "    state_map[get_state(st)] = st \n",
    "    \n",
    "    \n",
    "print(state_map)"
   ]
  },
  {
   "cell_type": "code",
   "execution_count": 31,
   "id": "possible-orchestra",
   "metadata": {},
   "outputs": [],
   "source": [
    "# take each text file\n",
    "\n",
    "def read_file(fn, dirname=path_to_txt_files):\n",
    "    f = open(dirname + fn, \"r\")\n",
    "    lines = f.read().split(\"\\n\")\n",
    "    return lines\n",
    "    \n",
    "    \n",
    "# each breakup\n",
    "# Store name\n",
    "# Address\n",
    "# City, State, Zip\n",
    "# Phone Number\n",
    "# \"\"\n",
    "\n",
    "all_files_df = pd.DataFrame()\n",
    "\n",
    "for key in list(state_map.keys()):\n",
    "    state = key\n",
    "    lines = read_file(state_map[key])\n",
    "    data_obj = {\n",
    "        \"Store_Name\":[],\n",
    "        \"Address\":[],\n",
    "        \"City_State_Zip\":[],\n",
    "        \"Phone_Number\":[],\n",
    "        \"State\":[]\n",
    "    }\n",
    "    # this should come out to all even lines\n",
    "    after_space = 0\n",
    "    for i in range(0, len(lines)):\n",
    "        if lines[i] == '':\n",
    "            data_obj[\"State\"].append(key)\n",
    "            after_space = 0\n",
    "            continue\n",
    "        else:\n",
    "            if after_space == 0:\n",
    "                data_obj[\"Store_Name\"].append(lines[i])\n",
    "            elif after_space == 1:\n",
    "                data_obj[\"Address\"].append(lines[i])\n",
    "            elif after_space == 2:\n",
    "                data_obj[\"City_State_Zip\"].append(lines[i])\n",
    "            elif after_space == 3:\n",
    "                data_obj[\"Phone_Number\"].append(lines[i])\n",
    "            after_space += 1\n",
    "    data_obj[\"State\"] = data_obj[\"State\"][1:len(data_obj[\"State\"])]\n",
    "    # cut \" \" out of strings for City_State_Zip\n",
    "    new_city_state_zip = []\n",
    "    df = pd.DataFrame(data = data_obj)\n",
    "    all_files_df = all_files_df.append(df, ignore_index=True)\n",
    "    all_files_df.to_csv(\"All_LA_Fitness_Locations.csv\", index=False)\n",
    "    df.to_csv(\"Data_for_\" + state + \".csv\", index=False)"
   ]
  },
  {
   "cell_type": "code",
   "execution_count": 42,
   "id": "hourly-pregnancy",
   "metadata": {},
   "outputs": [
    {
     "name": "stdout",
     "output_type": "stream",
     "text": [
      "(573, 5)\n",
      "Index(['Store_Name', 'Address', 'City_State_Zip', 'Phone_Number', 'State'], dtype='object')\n",
      "573\n",
      "557\n"
     ]
    }
   ],
   "source": [
    "# get zip codes\n",
    "\n",
    "df = pd.read_csv(\"./All_LA_Fitness_Locations.csv\")\n",
    "print(df.shape)\n",
    "print(df.columns)\n",
    "\n",
    "city_state_zips = df['City_State_Zip']\n",
    "\n",
    "# print(city_state_zips)\n",
    "\n",
    "# space between state and zip code is (2) spaces\n",
    "\n",
    "zips = []\n",
    "\n",
    "for i in range(0, len(city_state_zips)):\n",
    "    zips.append(city_state_zips[i].split(\"  \")[1])\n",
    "    \n",
    "print(len(zips))\n",
    "\n",
    "# filter zips\n",
    "\n",
    "unique_zips = list(set(zips))\n",
    "print(len(unique_zips))\n",
    "\n",
    "pd.DataFrame(data={\"Unique_Zips\":unique_zips}).to_csv(\"unique_zip_codes.csv\", index = False)"
   ]
  }
 ],
 "metadata": {
  "kernelspec": {
   "display_name": "Python 3",
   "language": "python",
   "name": "python3"
  },
  "language_info": {
   "codemirror_mode": {
    "name": "ipython",
    "version": 3
   },
   "file_extension": ".py",
   "mimetype": "text/x-python",
   "name": "python",
   "nbconvert_exporter": "python",
   "pygments_lexer": "ipython3",
   "version": "3.9.1"
  }
 },
 "nbformat": 4,
 "nbformat_minor": 5
}
